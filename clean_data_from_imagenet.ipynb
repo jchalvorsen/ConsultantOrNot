{
 "cells": [
  {
   "cell_type": "markdown",
   "metadata": {},
   "source": [
    "# Cleaning data from imagenet"
   ]
  },
  {
   "cell_type": "code",
   "execution_count": null,
   "metadata": {},
   "outputs": [],
   "source": [
    "import os\n",
    "from glob import glob\n",
    "from numpy import random"
   ]
  },
  {
   "cell_type": "code",
   "execution_count": null,
   "metadata": {},
   "outputs": [],
   "source": [
    "#Importer nødvendige libs:\n",
    "import os, sys\n",
    "import numpy as np\n",
    "from glob import glob\n",
    "\n",
    "from __future__ import division,print_function\n",
    "np.set_printoptions(precision=4, linewidth=100)\n",
    "from matplotlib import pyplot as plt\n",
    "import json"
   ]
  },
  {
   "cell_type": "code",
   "execution_count": null,
   "metadata": {},
   "outputs": [],
   "source": [
    "# Lag stivariabler\n",
    "current_dir = os.getcwd()\n",
    "LESSON_HOME_DIR = current_dir\n",
    "DATA_HOME_DIR = current_dir+'/data/suitsglasses'\n",
    "%pwd\n"
   ]
  },
  {
   "cell_type": "code",
   "execution_count": null,
   "metadata": {},
   "outputs": [],
   "source": [
    "# Klargjør mappestruktur\n",
    "%cd $DATA_HOME_DIR\n",
    "%pwd\n",
    "\n",
    "# Slett dirs:\n",
    "%rm -rf ./train/*\n",
    "%rm -rf ./valid/*\n",
    "\n",
    "\n",
    "# Opprett nødvendige mapper:\n",
    "%mkdir -p train\n",
    "%mkdir -p valid\n",
    "%mkdir -p test\n",
    "%cd valid\n",
    "%mkdir -p suits\n",
    "%mkdir -p glasses\n",
    "%cd ../test\n",
    "%mkdir -p unknown"
   ]
  },
  {
   "cell_type": "code",
   "execution_count": null,
   "metadata": {},
   "outputs": [],
   "source": [
    "# Unzip filer:\n",
    "%cd $DATA_HOME_DIR/train\n",
    "\n",
    "import zipfile\n",
    "\n",
    "def unzip_file(file):\n",
    "    zip_ref = zipfile.ZipFile(file, 'r')\n",
    "    zip_ref.extractall()\n",
    "    zip_ref.close()\n",
    "\n",
    "unzip_file('../suits.zip')\n",
    "unzip_file('../glasses.zip')\n"
   ]
  },
  {
   "cell_type": "code",
   "execution_count": null,
   "metadata": {},
   "outputs": [],
   "source": [
    "# Klargjør data ved å slette alle bilder som ikke validerer som jpg:\n",
    "%cd $DATA_HOME_DIR/train\n",
    "%pwd\n",
    "import imghdr\n",
    "\n",
    "def clean_dir(path):\n",
    "    #path =  os.getcwd() + '/' + path\n",
    "    for file in os.listdir(path):\n",
    "        filepath = path + '/' + file\n",
    "        type = imghdr.what(filepath)\n",
    "        if type != 'jpeg' and type != 'jpg':\n",
    "            os.remove(filepath)\n",
    "            print ('Deleting ', file)\n",
    "\n",
    "clean_dir('glasses')\n",
    "clean_dir('suits')"
   ]
  },
  {
   "cell_type": "code",
   "execution_count": null,
   "metadata": {},
   "outputs": [],
   "source": [
    "# Plukk ut femti tilfeldige bilder som vi plasserer i validation-settet\n",
    "%cd $DATA_HOME_DIR/train/suits\n",
    "g = glob('*.jpg')\n",
    "shuf = random.permutation(g)\n",
    "for i in range(50):\n",
    "    os.rename(shuf[i], DATA_HOME_DIR+'/valid/suits/' + shuf[i])"
   ]
  },
  {
   "cell_type": "code",
   "execution_count": null,
   "metadata": {},
   "outputs": [],
   "source": [
    "%cd $DATA_HOME_DIR/train/glasses\n",
    "g = glob('*.jpg')\n",
    "shuf = random.permutation(g)\n",
    "for i in range(50):\n",
    "    os.rename(shuf[i], DATA_HOME_DIR+'/valid/glasses/' + shuf[i])"
   ]
  },
  {
   "cell_type": "code",
   "execution_count": null,
   "metadata": {
    "collapsed": true
   },
   "outputs": [],
   "source": []
  }
 ],
 "metadata": {
  "anaconda-cloud": {},
  "kernelspec": {
   "display_name": "Python [conda root]",
   "language": "python",
   "name": "conda-root-py"
  },
  "language_info": {
   "codemirror_mode": {
    "name": "ipython",
    "version": 2
   },
   "file_extension": ".py",
   "mimetype": "text/x-python",
   "name": "python",
   "nbconvert_exporter": "python",
   "pygments_lexer": "ipython2",
   "version": "2.7.13"
  },
  "nav_menu": {},
  "nbpresent": {
   "slides": {
    "28b43202-5690-4169-9aca-6b9dabfeb3ec": {
     "id": "28b43202-5690-4169-9aca-6b9dabfeb3ec",
     "prev": null,
     "regions": {
      "3bba644a-cf4d-4a49-9fbd-e2554428cf9f": {
       "attrs": {
        "height": 0.8,
        "width": 0.8,
        "x": 0.1,
        "y": 0.1
       },
       "content": {
        "cell": "f3d3a388-7e2a-4151-9b50-c20498fceacc",
        "part": "whole"
       },
       "id": "3bba644a-cf4d-4a49-9fbd-e2554428cf9f"
      }
     }
    },
    "8104def2-4b68-44a0-8f1b-b03bf3b2a079": {
     "id": "8104def2-4b68-44a0-8f1b-b03bf3b2a079",
     "prev": "28b43202-5690-4169-9aca-6b9dabfeb3ec",
     "regions": {
      "7dded777-1ddf-4100-99ae-25cf1c15b575": {
       "attrs": {
        "height": 0.8,
        "width": 0.8,
        "x": 0.1,
        "y": 0.1
       },
       "content": {
        "cell": "fe47bd48-3414-4657-92e7-8b8d6cb0df00",
        "part": "whole"
       },
       "id": "7dded777-1ddf-4100-99ae-25cf1c15b575"
      }
     }
    }
   },
   "themes": {}
  },
  "toc": {
   "navigate_menu": true,
   "number_sections": true,
   "sideBar": true,
   "threshold": 6,
   "toc_cell": false,
   "toc_section_display": "block",
   "toc_window_display": false
  },
  "widgets": {
   "state": {},
   "version": "1.1.2"
  }
 },
 "nbformat": 4,
 "nbformat_minor": 1
}
